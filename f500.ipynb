{
  "nbformat": 4,
  "nbformat_minor": 0,
  "metadata": {
    "colab": {
      "provenance": [],
      "authorship_tag": "ABX9TyNANErBZSRxQ7yQ5k0B8m2x",
      "include_colab_link": true
    },
    "kernelspec": {
      "name": "python3",
      "display_name": "Python 3"
    },
    "language_info": {
      "name": "python"
    }
  },
  "cells": [
    {
      "cell_type": "markdown",
      "metadata": {
        "id": "view-in-github",
        "colab_type": "text"
      },
      "source": [
        "<a href=\"https://colab.research.google.com/github/Krzesimir13/DataQuest/blob/main/f500.ipynb\" target=\"_parent\"><img src=\"https://colab.research.google.com/assets/colab-badge.svg\" alt=\"Open In Colab\"/></a>"
      ]
    },
    {
      "cell_type": "code",
      "source": [
        "import pandas as pd\n",
        "\n",
        "\n",
        "f500 = pd.read_csv('f500.csv', index_col=0)\n",
        "f500.index.name = None"
      ],
      "metadata": {
        "id": "vMC2FEPT5Dhp"
      },
      "execution_count": null,
      "outputs": []
    },
    {
      "cell_type": "code",
      "source": [
        "type(f500)"
      ],
      "metadata": {
        "id": "lRMMaBLy6mYP"
      },
      "execution_count": null,
      "outputs": []
    },
    {
      "cell_type": "code",
      "source": [
        "f500.shape"
      ],
      "metadata": {
        "id": "f_8qm2ta7k0L"
      },
      "execution_count": null,
      "outputs": []
    },
    {
      "cell_type": "code",
      "source": [
        "print(f500.head(3))"
      ],
      "metadata": {
        "id": "TvTcd7Xh7nkJ"
      },
      "execution_count": null,
      "outputs": []
    },
    {
      "cell_type": "code",
      "source": [
        "print(f500.tail(3))"
      ],
      "metadata": {
        "id": "SRTiIt7D8J6O"
      },
      "execution_count": null,
      "outputs": []
    },
    {
      "cell_type": "code",
      "source": [
        "f500_selection = f500.head()\n",
        "f500_selection.dtypes"
      ],
      "metadata": {
        "id": "oHXvHWr68Xue"
      },
      "execution_count": null,
      "outputs": []
    },
    {
      "cell_type": "code",
      "source": [
        "f500.info()"
      ],
      "metadata": {
        "id": "W0TfiBn3873i"
      },
      "execution_count": null,
      "outputs": []
    },
    {
      "cell_type": "code",
      "source": [
        "industries = f500['industry']\n",
        "industries_type = type(industries)\n",
        "print(industries)\n",
        "print(industries_type)"
      ],
      "metadata": {
        "id": "yGBB2aX3-afo"
      },
      "execution_count": null,
      "outputs": []
    },
    {
      "cell_type": "code",
      "source": [
        "countries = f500['country']\n",
        "country_counts = countries.value_counts()\n",
        "top_country = country_counts.idxmax()\n",
        "print(top_country)\n",
        "hq_locations = f500['hq_location']\n",
        "hql_counts = hq_locations.value_counts()\n",
        "top_city = hql_counts.idxmax()\n",
        "print(top_city)"
      ],
      "metadata": {
        "id": "tN08_xF6BZ2C"
      },
      "execution_count": null,
      "outputs": []
    },
    {
      "cell_type": "code",
      "source": [
        "hq_locations.count()"
      ],
      "metadata": {
        "id": "8peCuRffLiCi"
      },
      "execution_count": null,
      "outputs": []
    },
    {
      "cell_type": "code",
      "source": [
        "toyota = f500.loc['Toyota Motor']\n",
        "drink_companies = f500.loc[['Anheuser-Busch InBev', 'Coca-Cola', 'Heineken Holding']]\n",
        "middle_companies = f500.loc['Tata Motors' : 'Nationwide']\n",
        "print(toyota)"
      ],
      "metadata": {
        "id": "AEMA3OFvE8zW"
      },
      "execution_count": null,
      "outputs": []
    },
    {
      "cell_type": "code",
      "source": [
        "india = country_counts.loc['India']\n",
        "type(india)"
      ],
      "metadata": {
        "colab": {
          "base_uri": "https://localhost:8080/"
        },
        "id": "C-spUKxMIoCi",
        "outputId": "dd792de0-f486-44d5-9ca1-89df9bef96bf"
      },
      "execution_count": null,
      "outputs": [
        {
          "output_type": "execute_result",
          "data": {
            "text/plain": [
              "numpy.int64"
            ]
          },
          "metadata": {},
          "execution_count": 14
        }
      ]
    },
    {
      "cell_type": "code",
      "source": [
        "north_america =country_counts.loc[['USA', 'Canada', 'Mexico']]\n",
        "japan_to_spain = country_counts.loc['Japan' : 'Spain']"
      ],
      "metadata": {
        "id": "QYKXrZh6E2XZ"
      },
      "execution_count": null,
      "outputs": []
    },
    {
      "cell_type": "code",
      "source": [
        "big_movers = f500.loc[['Aviva', 'HP', 'JD.com', 'BHP Billiton'], ['rank', 'previous_rank']]\n",
        "#print(big_movers)\n",
        "bottom_companies = f500.loc['National Grid':'AutoNation', ['rank', 'sector', 'country']]\n",
        "#print(bottom_companies)\n",
        "revenue_giants = f500.loc[['Apple', 'Industrial & Commercial Bank of China',\n",
        "                          'China Construction Bank', 'Agricultural Bank of China'],\n",
        "                          'revenues':'profit_change']\n"
      ],
      "metadata": {
        "colab": {
          "base_uri": "https://localhost:8080/"
        },
        "id": "wOBN0hm7FLV7",
        "outputId": "0ce70588-04fe-4542-8ff3-6d0932b10e2a"
      },
      "execution_count": null,
      "outputs": [
        {
          "output_type": "stream",
          "name": "stdout",
          "text": [
            "                                       revenues  revenue_change  profits  \\\n",
            "Apple                                    215639            -7.7  45687.0   \n",
            "Industrial & Commercial Bank of China    147675           -11.7  41883.9   \n",
            "China Construction Bank                  135093            -8.7  34840.9   \n",
            "Agricultural Bank of China               117275           -12.1  27687.8   \n",
            "\n",
            "                                        assets  profit_change  \n",
            "Apple                                   321686          -14.4  \n",
            "Industrial & Commercial Bank of China  3473238           -5.0  \n",
            "China Construction Bank                3016578           -4.0  \n",
            "Agricultural Bank of China             2816039           -3.6  \n"
          ]
        }
      ]
    },
    {
      "cell_type": "code",
      "source": [],
      "metadata": {
        "id": "kj5cdfJYGR4K"
      },
      "execution_count": null,
      "outputs": []
    }
  ]
}