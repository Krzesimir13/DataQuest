{
  "nbformat": 4,
  "nbformat_minor": 0,
  "metadata": {
    "colab": {
      "provenance": [],
      "authorship_tag": "ABX9TyN5eS9fq28CIMJ5R7Sd9Rsl",
      "include_colab_link": true
    },
    "kernelspec": {
      "name": "python3",
      "display_name": "Python 3"
    },
    "language_info": {
      "name": "python"
    }
  },
  "cells": [
    {
      "cell_type": "markdown",
      "metadata": {
        "id": "view-in-github",
        "colab_type": "text"
      },
      "source": [
        "<a href=\"https://colab.research.google.com/github/Krzesimir13/DataQuest/blob/main/eBay_cars.ipynb\" target=\"_parent\"><img src=\"https://colab.research.google.com/assets/colab-badge.svg\" alt=\"Open In Colab\"/></a>"
      ]
    },
    {
      "cell_type": "markdown",
      "source": [
        "#Preparation of the environment\n",
        "\n",
        "\n",
        "*   Import of dataset from Google Drive\n",
        "*   Import of pandas and numpy\n",
        "*   Creating a DataFrame object from the dataset and its copy to ongoing work"
      ],
      "metadata": {
        "id": "2tWsLX0XvkDJ"
      }
    },
    {
      "cell_type": "code",
      "source": [
        "import pandas as pd\n",
        "import numpy as np\n",
        "\n",
        "\n",
        "from google.colab import drive\n",
        "drive.mount('/content/drive', force_remount=True)\n",
        "\n",
        "laptops_raw = pd.read_csv(\"/content/drive/MyDrive/Colab Notebooks/laptops.csv\",\n",
        "                          encoding='latin-1')\n",
        "laptops = laptops_raw.copy()"
      ],
      "metadata": {
        "id": "-0pqyiNDvrY6",
        "outputId": "63027012-29d5-4b33-ab77-906adbb82aa6",
        "colab": {
          "base_uri": "https://localhost:8080/"
        }
      },
      "execution_count": null,
      "outputs": [
        {
          "output_type": "stream",
          "name": "stdout",
          "text": [
            "Mounted at /content/drive\n"
          ]
        }
      ]
    }
  ]
}