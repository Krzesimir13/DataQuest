{
  "nbformat": 4,
  "nbformat_minor": 0,
  "metadata": {
    "colab": {
      "provenance": [],
      "authorship_tag": "ABX9TyNa0FwAtp1ar5+7c6ZlHUp9",
      "include_colab_link": true
    },
    "kernelspec": {
      "name": "python3",
      "display_name": "Python 3"
    },
    "language_info": {
      "name": "python"
    }
  },
  "cells": [
    {
      "cell_type": "markdown",
      "metadata": {
        "id": "view-in-github",
        "colab_type": "text"
      },
      "source": [
        "<a href=\"https://colab.research.google.com/github/Krzesimir13/DataQuest/blob/main/laptops.ipynb\" target=\"_parent\"><img src=\"https://colab.research.google.com/assets/colab-badge.svg\" alt=\"Open In Colab\"/></a>"
      ]
    },
    {
      "cell_type": "markdown",
      "source": [
        "#Preparation of the environment\n",
        "\n",
        "\n",
        "*   Import of dataset from Google Drive\n",
        "*   Import of pandas and numpy\n",
        "*   Creating a DataFrame object from the dataset and its copy to ongoing work"
      ],
      "metadata": {
        "id": "2tWsLX0XvkDJ"
      }
    },
    {
      "cell_type": "code",
      "source": [
        "import pandas as pd\n",
        "import numpy as np\n",
        "\n",
        "\n",
        "from google.colab import drive\n",
        "drive.mount('/content/drive', force_remount=True)\n",
        "\n",
        "laptops_raw = pd.read_csv(\"/content/drive/MyDrive/Colab Notebooks/laptops.csv\",\n",
        "                          encoding='latin-1')\n",
        "laptops = laptops_raw.copy()"
      ],
      "metadata": {
        "id": "-0pqyiNDvrY6",
        "outputId": "63027012-29d5-4b33-ab77-906adbb82aa6",
        "colab": {
          "base_uri": "https://localhost:8080/"
        }
      },
      "execution_count": 1,
      "outputs": [
        {
          "output_type": "stream",
          "name": "stdout",
          "text": [
            "Mounted at /content/drive\n"
          ]
        }
      ]
    },
    {
      "cell_type": "code",
      "source": [
        "laptops.info()"
      ],
      "metadata": {
        "id": "qY7cMSyHxPg9",
        "outputId": "6bc6d45d-3fac-45c5-82a8-d03f7b16ba23",
        "colab": {
          "base_uri": "https://localhost:8080/"
        }
      },
      "execution_count": 2,
      "outputs": [
        {
          "output_type": "stream",
          "name": "stdout",
          "text": [
            "<class 'pandas.core.frame.DataFrame'>\n",
            "RangeIndex: 1303 entries, 0 to 1302\n",
            "Data columns (total 13 columns):\n",
            " #   Column                    Non-Null Count  Dtype \n",
            "---  ------                    --------------  ----- \n",
            " 0   Manufacturer              1303 non-null   object\n",
            " 1   Model Name                1303 non-null   object\n",
            " 2   Category                  1303 non-null   object\n",
            " 3   Screen Size               1303 non-null   object\n",
            " 4   Screen                    1303 non-null   object\n",
            " 5   CPU                       1303 non-null   object\n",
            " 6   RAM                       1303 non-null   object\n",
            " 7    Storage                  1303 non-null   object\n",
            " 8   GPU                       1303 non-null   object\n",
            " 9   Operating System          1303 non-null   object\n",
            " 10  Operating System Version  1133 non-null   object\n",
            " 11  Weight                    1303 non-null   object\n",
            " 12  Price (Euros)             1303 non-null   object\n",
            "dtypes: object(13)\n",
            "memory usage: 132.5+ KB\n"
          ]
        }
      ]
    },
    {
      "cell_type": "code",
      "source": [
        "def clean_col(col):\n",
        "  col = col.strip()\n",
        "  col = col.replace('Operating System', 'os')\n",
        "  col = col.replace('(', '').replace(')', '').replace(' ', '_').lower()\n",
        "  return col"
      ],
      "metadata": {
        "id": "HLHjVlYp1jKL"
      },
      "execution_count": 3,
      "outputs": []
    },
    {
      "cell_type": "code",
      "source": [
        "new_columns = [clean_col(col) for col in laptops.columns]\n",
        "laptops.columns = new_columns\n",
        "laptops.columns"
      ],
      "metadata": {
        "id": "pRDtSVgbzXiB",
        "outputId": "897cfbaa-55a9-4716-f75b-8758bdfb9413",
        "colab": {
          "base_uri": "https://localhost:8080/"
        }
      },
      "execution_count": 4,
      "outputs": [
        {
          "output_type": "execute_result",
          "data": {
            "text/plain": [
              "Index(['manufacturer', 'model_name', 'category', 'screen_size', 'screen',\n",
              "       'cpu', 'ram', 'storage', 'gpu', 'os', 'os_version', 'weight',\n",
              "       'price_euros'],\n",
              "      dtype='object')"
            ]
          },
          "metadata": {},
          "execution_count": 4
        }
      ]
    },
    {
      "cell_type": "code",
      "source": [
        "unique_ram = laptops['ram'].unique()\n",
        "print(unique_ram)"
      ],
      "metadata": {
        "id": "mMnEh4FNXCmP",
        "outputId": "67e449db-5e77-4e26-f171-0e0bd2af698d",
        "colab": {
          "base_uri": "https://localhost:8080/"
        }
      },
      "execution_count": 5,
      "outputs": [
        {
          "output_type": "stream",
          "name": "stdout",
          "text": [
            "['8GB' '16GB' '4GB' '2GB' '12GB' '6GB' '32GB' '24GB' '64GB']\n"
          ]
        }
      ]
    },
    {
      "cell_type": "code",
      "source": [
        "laptops['ram'] = laptops['ram'].str.replace('GB', '').astype(int)\n",
        "laptops['ram'].unique()"
      ],
      "metadata": {
        "id": "hRSP9ANKX1vL",
        "outputId": "9605f47b-75a3-4003-84fa-d503b01d69e4",
        "colab": {
          "base_uri": "https://localhost:8080/"
        }
      },
      "execution_count": 6,
      "outputs": [
        {
          "output_type": "execute_result",
          "data": {
            "text/plain": [
              "array([ 8, 16,  4,  2, 12,  6, 32, 24, 64])"
            ]
          },
          "metadata": {},
          "execution_count": 6
        }
      ]
    },
    {
      "cell_type": "code",
      "source": [
        "laptops.rename({'ram' : 'ram_gb'}, axis=1, inplace=True)\n",
        "laptops.columns\n",
        "ram_gb_desc = laptops['ram_gb'].describe()\n",
        "ram_gb_desc"
      ],
      "metadata": {
        "id": "ydKVUWvJY6Rh",
        "outputId": "190d5f37-2c4e-4294-a444-223302daa6d7",
        "colab": {
          "base_uri": "https://localhost:8080/",
          "height": 335
        }
      },
      "execution_count": 7,
      "outputs": [
        {
          "output_type": "execute_result",
          "data": {
            "text/plain": [
              "count    1303.000000\n",
              "mean        8.382195\n",
              "std         5.084665\n",
              "min         2.000000\n",
              "25%         4.000000\n",
              "50%         8.000000\n",
              "75%         8.000000\n",
              "max        64.000000\n",
              "Name: ram_gb, dtype: float64"
            ],
            "text/html": [
              "<div>\n",
              "<style scoped>\n",
              "    .dataframe tbody tr th:only-of-type {\n",
              "        vertical-align: middle;\n",
              "    }\n",
              "\n",
              "    .dataframe tbody tr th {\n",
              "        vertical-align: top;\n",
              "    }\n",
              "\n",
              "    .dataframe thead th {\n",
              "        text-align: right;\n",
              "    }\n",
              "</style>\n",
              "<table border=\"1\" class=\"dataframe\">\n",
              "  <thead>\n",
              "    <tr style=\"text-align: right;\">\n",
              "      <th></th>\n",
              "      <th>ram_gb</th>\n",
              "    </tr>\n",
              "  </thead>\n",
              "  <tbody>\n",
              "    <tr>\n",
              "      <th>count</th>\n",
              "      <td>1303.000000</td>\n",
              "    </tr>\n",
              "    <tr>\n",
              "      <th>mean</th>\n",
              "      <td>8.382195</td>\n",
              "    </tr>\n",
              "    <tr>\n",
              "      <th>std</th>\n",
              "      <td>5.084665</td>\n",
              "    </tr>\n",
              "    <tr>\n",
              "      <th>min</th>\n",
              "      <td>2.000000</td>\n",
              "    </tr>\n",
              "    <tr>\n",
              "      <th>25%</th>\n",
              "      <td>4.000000</td>\n",
              "    </tr>\n",
              "    <tr>\n",
              "      <th>50%</th>\n",
              "      <td>8.000000</td>\n",
              "    </tr>\n",
              "    <tr>\n",
              "      <th>75%</th>\n",
              "      <td>8.000000</td>\n",
              "    </tr>\n",
              "    <tr>\n",
              "      <th>max</th>\n",
              "      <td>64.000000</td>\n",
              "    </tr>\n",
              "  </tbody>\n",
              "</table>\n",
              "</div><br><label><b>dtype:</b> float64</label>"
            ]
          },
          "metadata": {},
          "execution_count": 7
        }
      ]
    },
    {
      "cell_type": "code",
      "source": [
        "gpu_split = laptops['gpu'].str.split()\n",
        "laptops['gpu_manufacturer'] = gpu_split.str[0]\n",
        "gpu_manufacturer_counts = laptops['gpu_manufacturer'].value_counts()\n",
        "cpu_split = laptops['cpu'].str.split()\n",
        "laptops['cpu_manufacturer'] = cpu_split.str[0]\n",
        "cpu_manufacturer_counts = laptops['cpu_manufacturer'].value_counts()\n",
        "print(gpu_manufacturer_counts)\n",
        "print(cpu_manufacturer_counts)\n"
      ],
      "metadata": {
        "id": "L70QTqydb3w7",
        "outputId": "32920853-aeec-4287-d3b7-f67db1172559",
        "colab": {
          "base_uri": "https://localhost:8080/"
        }
      },
      "execution_count": 8,
      "outputs": [
        {
          "output_type": "stream",
          "name": "stdout",
          "text": [
            "gpu_manufacturer\n",
            "Intel     722\n",
            "Nvidia    400\n",
            "AMD       180\n",
            "ARM         1\n",
            "Name: count, dtype: int64\n",
            "cpu_manufacturer\n",
            "Intel      1240\n",
            "AMD          62\n",
            "Samsung       1\n",
            "Name: count, dtype: int64\n"
          ]
        }
      ]
    },
    {
      "cell_type": "code",
      "source": [
        "laptops['os'].unique()"
      ],
      "metadata": {
        "id": "K4mkwYPUeZLV",
        "outputId": "b427b759-825b-44c0-cc67-ffecb57863d3",
        "colab": {
          "base_uri": "https://localhost:8080/"
        }
      },
      "execution_count": 9,
      "outputs": [
        {
          "output_type": "execute_result",
          "data": {
            "text/plain": [
              "array(['macOS', 'No OS', 'Windows', 'Mac OS', 'Linux', 'Android',\n",
              "       'Chrome OS'], dtype=object)"
            ]
          },
          "metadata": {},
          "execution_count": 9
        }
      ]
    },
    {
      "cell_type": "code",
      "source": [
        "mapping_dict = {'Mac OS' : 'macOS'}\n",
        "laptops['os'] = laptops['os'].replace('Mac OS', 'macOS')\n",
        "laptops['os'].value_counts()\n"
      ],
      "metadata": {
        "id": "U5zOGnqheeRr",
        "outputId": "f51483f0-0653-4ca6-b0ac-68067253c2a1",
        "colab": {
          "base_uri": "https://localhost:8080/",
          "height": 303
        }
      },
      "execution_count": 10,
      "outputs": [
        {
          "output_type": "execute_result",
          "data": {
            "text/plain": [
              "os\n",
              "Windows      1125\n",
              "No OS          66\n",
              "Linux          62\n",
              "Chrome OS      27\n",
              "macOS          21\n",
              "Android         2\n",
              "Name: count, dtype: int64"
            ],
            "text/html": [
              "<div>\n",
              "<style scoped>\n",
              "    .dataframe tbody tr th:only-of-type {\n",
              "        vertical-align: middle;\n",
              "    }\n",
              "\n",
              "    .dataframe tbody tr th {\n",
              "        vertical-align: top;\n",
              "    }\n",
              "\n",
              "    .dataframe thead th {\n",
              "        text-align: right;\n",
              "    }\n",
              "</style>\n",
              "<table border=\"1\" class=\"dataframe\">\n",
              "  <thead>\n",
              "    <tr style=\"text-align: right;\">\n",
              "      <th></th>\n",
              "      <th>count</th>\n",
              "    </tr>\n",
              "    <tr>\n",
              "      <th>os</th>\n",
              "      <th></th>\n",
              "    </tr>\n",
              "  </thead>\n",
              "  <tbody>\n",
              "    <tr>\n",
              "      <th>Windows</th>\n",
              "      <td>1125</td>\n",
              "    </tr>\n",
              "    <tr>\n",
              "      <th>No OS</th>\n",
              "      <td>66</td>\n",
              "    </tr>\n",
              "    <tr>\n",
              "      <th>Linux</th>\n",
              "      <td>62</td>\n",
              "    </tr>\n",
              "    <tr>\n",
              "      <th>Chrome OS</th>\n",
              "      <td>27</td>\n",
              "    </tr>\n",
              "    <tr>\n",
              "      <th>macOS</th>\n",
              "      <td>21</td>\n",
              "    </tr>\n",
              "    <tr>\n",
              "      <th>Android</th>\n",
              "      <td>2</td>\n",
              "    </tr>\n",
              "  </tbody>\n",
              "</table>\n",
              "</div><br><label><b>dtype:</b> int64</label>"
            ]
          },
          "metadata": {},
          "execution_count": 10
        }
      ]
    },
    {
      "cell_type": "code",
      "source": [
        "laptops_no_null_rows = laptops.dropna(axis=0)\n",
        "laptops_no_null_cols = laptops.dropna(axis=1)\n",
        "print(laptops_no_null_rows.shape)\n",
        "print(laptops_no_null_cols.shape)"
      ],
      "metadata": {
        "id": "QHsN6xsPhDvH",
        "outputId": "5a1b02b9-0470-4b46-c6af-82183a9357a2",
        "colab": {
          "base_uri": "https://localhost:8080/"
        }
      },
      "execution_count": 11,
      "outputs": [
        {
          "output_type": "stream",
          "name": "stdout",
          "text": [
            "(1133, 15)\n",
            "(1303, 14)\n"
          ]
        }
      ]
    },
    {
      "cell_type": "code",
      "source": [
        "value_counts_before = laptops.loc[laptops[\"os_version\"].isnull(), \"os\"].value_counts()\n",
        "value_counts_before"
      ],
      "metadata": {
        "id": "KUKJ6GDcKb1X",
        "outputId": "bb8d006e-32c5-41e1-a265-8a40b00c37de",
        "colab": {
          "base_uri": "https://localhost:8080/",
          "height": 272
        }
      },
      "execution_count": 12,
      "outputs": [
        {
          "output_type": "execute_result",
          "data": {
            "text/plain": [
              "os\n",
              "No OS        66\n",
              "Linux        62\n",
              "Chrome OS    27\n",
              "macOS        13\n",
              "Android       2\n",
              "Name: count, dtype: int64"
            ],
            "text/html": [
              "<div>\n",
              "<style scoped>\n",
              "    .dataframe tbody tr th:only-of-type {\n",
              "        vertical-align: middle;\n",
              "    }\n",
              "\n",
              "    .dataframe tbody tr th {\n",
              "        vertical-align: top;\n",
              "    }\n",
              "\n",
              "    .dataframe thead th {\n",
              "        text-align: right;\n",
              "    }\n",
              "</style>\n",
              "<table border=\"1\" class=\"dataframe\">\n",
              "  <thead>\n",
              "    <tr style=\"text-align: right;\">\n",
              "      <th></th>\n",
              "      <th>count</th>\n",
              "    </tr>\n",
              "    <tr>\n",
              "      <th>os</th>\n",
              "      <th></th>\n",
              "    </tr>\n",
              "  </thead>\n",
              "  <tbody>\n",
              "    <tr>\n",
              "      <th>No OS</th>\n",
              "      <td>66</td>\n",
              "    </tr>\n",
              "    <tr>\n",
              "      <th>Linux</th>\n",
              "      <td>62</td>\n",
              "    </tr>\n",
              "    <tr>\n",
              "      <th>Chrome OS</th>\n",
              "      <td>27</td>\n",
              "    </tr>\n",
              "    <tr>\n",
              "      <th>macOS</th>\n",
              "      <td>13</td>\n",
              "    </tr>\n",
              "    <tr>\n",
              "      <th>Android</th>\n",
              "      <td>2</td>\n",
              "    </tr>\n",
              "  </tbody>\n",
              "</table>\n",
              "</div><br><label><b>dtype:</b> int64</label>"
            ]
          },
          "metadata": {},
          "execution_count": 12
        }
      ]
    },
    {
      "cell_type": "code",
      "source": [
        "laptops.loc[laptops[\"os\"] == \"macOS\", \"os_version\"] = \"X\"\n",
        "laptops.loc[laptops['os'] == 'No OS', 'os_version'] = 'Not Applicable'\n",
        "value_counts_after = laptops.loc[laptops[\"os_version\"].isnull(), \"os\"].value_counts()"
      ],
      "metadata": {
        "id": "aBLSd8rLKjrK"
      },
      "execution_count": 13,
      "outputs": []
    },
    {
      "cell_type": "code",
      "source": [
        "laptops.columns"
      ],
      "metadata": {
        "id": "LAKDatn8Ulzx",
        "outputId": "63be255d-0c7f-495d-9d42-085e1fc2c5cf",
        "colab": {
          "base_uri": "https://localhost:8080/"
        }
      },
      "execution_count": 14,
      "outputs": [
        {
          "output_type": "execute_result",
          "data": {
            "text/plain": [
              "Index(['manufacturer', 'model_name', 'category', 'screen_size', 'screen',\n",
              "       'cpu', 'ram_gb', 'storage', 'gpu', 'os', 'os_version', 'weight',\n",
              "       'price_euros', 'gpu_manufacturer', 'cpu_manufacturer'],\n",
              "      dtype='object')"
            ]
          },
          "metadata": {},
          "execution_count": 14
        }
      ]
    },
    {
      "cell_type": "code",
      "source": [
        "laptops.rename({'weight' : 'weight_kg'}, axis=1, inplace=True)\n",
        "laptops.columns"
      ],
      "metadata": {
        "id": "qGuePxqDU9B5",
        "outputId": "c2d3e95d-6ced-4204-f8b9-6664559d52e2",
        "colab": {
          "base_uri": "https://localhost:8080/"
        }
      },
      "execution_count": 15,
      "outputs": [
        {
          "output_type": "execute_result",
          "data": {
            "text/plain": [
              "Index(['manufacturer', 'model_name', 'category', 'screen_size', 'screen',\n",
              "       'cpu', 'ram_gb', 'storage', 'gpu', 'os', 'os_version', 'weight_kg',\n",
              "       'price_euros', 'gpu_manufacturer', 'cpu_manufacturer'],\n",
              "      dtype='object')"
            ]
          },
          "metadata": {},
          "execution_count": 15
        }
      ]
    },
    {
      "cell_type": "code",
      "source": [
        "import re\n",
        "\n",
        "\n",
        "def clean_weight(weight):\n",
        "  pattern = r'^[0-9]*\\.?[0-9]+'\n",
        "  result = re.match(pattern, weight)\n",
        "  return float(result.group())\n",
        "\n",
        "laptops['weight_kg'] = [clean_weight(weight) for weight in laptops['weight_kg']]\n",
        "laptops['weight_kg'].head()"
      ],
      "metadata": {
        "id": "TTduxkGNMfiF",
        "outputId": "e1527b8f-8177-4fc8-f571-c64a7df52792",
        "colab": {
          "base_uri": "https://localhost:8080/",
          "height": 241
        }
      },
      "execution_count": 17,
      "outputs": [
        {
          "output_type": "execute_result",
          "data": {
            "text/plain": [
              "0    1.37\n",
              "1    1.34\n",
              "2    1.86\n",
              "3    1.83\n",
              "4    1.37\n",
              "Name: weight_kg, dtype: float64"
            ],
            "text/html": [
              "<div>\n",
              "<style scoped>\n",
              "    .dataframe tbody tr th:only-of-type {\n",
              "        vertical-align: middle;\n",
              "    }\n",
              "\n",
              "    .dataframe tbody tr th {\n",
              "        vertical-align: top;\n",
              "    }\n",
              "\n",
              "    .dataframe thead th {\n",
              "        text-align: right;\n",
              "    }\n",
              "</style>\n",
              "<table border=\"1\" class=\"dataframe\">\n",
              "  <thead>\n",
              "    <tr style=\"text-align: right;\">\n",
              "      <th></th>\n",
              "      <th>weight_kg</th>\n",
              "    </tr>\n",
              "  </thead>\n",
              "  <tbody>\n",
              "    <tr>\n",
              "      <th>0</th>\n",
              "      <td>1.37</td>\n",
              "    </tr>\n",
              "    <tr>\n",
              "      <th>1</th>\n",
              "      <td>1.34</td>\n",
              "    </tr>\n",
              "    <tr>\n",
              "      <th>2</th>\n",
              "      <td>1.86</td>\n",
              "    </tr>\n",
              "    <tr>\n",
              "      <th>3</th>\n",
              "      <td>1.83</td>\n",
              "    </tr>\n",
              "    <tr>\n",
              "      <th>4</th>\n",
              "      <td>1.37</td>\n",
              "    </tr>\n",
              "  </tbody>\n",
              "</table>\n",
              "</div><br><label><b>dtype:</b> float64</label>"
            ]
          },
          "metadata": {},
          "execution_count": 17
        }
      ]
    },
    {
      "cell_type": "code",
      "source": [
        "laptops.to_csv('laptops_cleaned.csv', index=False)"
      ],
      "metadata": {
        "id": "dFywhyxuUBwO"
      },
      "execution_count": 19,
      "outputs": []
    }
  ]
}